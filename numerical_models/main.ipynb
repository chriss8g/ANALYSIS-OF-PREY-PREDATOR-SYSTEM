{
 "cells": [
  {
   "attachments": {},
   "cell_type": "markdown",
   "metadata": {},
   "source": [
    "### ANÁLISIS DE *STABILITY AND NUMERICAL SIMULATION OF PREY-PREDATOR SYSTEM WITH HOLLING TYPE-II FUNCTIONAL RESPONSES FOR ADULT PREY*\n",
    "\n",
    "#### Integrantes del equipo\n",
    "1. Pedro Pablo Álvarez Portelles\n",
    "2. Abel Llerena Domingo\n",
    "3. Marlon Díaz Pérez\n",
    "4. Christopher Guerra Herrero\n",
    "5. Amanda Cordero Lezcano"
   ]
  },
  {
   "attachments": {},
   "cell_type": "markdown",
   "metadata": {},
   "source": [
    "## Instalacion de librerias"
   ]
  },
  {
   "cell_type": "code",
   "execution_count": null,
   "metadata": {},
   "outputs": [],
   "source": [
    "!git clone \"https://github.com/chriss8g/ANALYSIS-OF-PREY-PREDATOR-SYSTEM\"\n",
    "!cd \"ANALYSIS-OF-PREY-PREDATOR-SYSTEM\"\n",
    "!pip3 install -r requirements.txt\n",
    "!cd numerical_models"
   ]
  },
  {
   "attachments": {},
   "cell_type": "markdown",
   "metadata": {},
   "source": [
    "## Importar las librerias necesarias"
   ]
  },
  {
   "cell_type": "code",
   "execution_count": null,
   "metadata": {},
   "outputs": [],
   "source": [
    "from methods.experiments import *\n",
    "import numpy as np\n",
    "import scipy.integrate as it\n",
    "import matplotlib.pyplot as plt\n",
    "\n",
    "%matplotlib inline"
   ]
  },
  {
   "attachments": {},
   "cell_type": "markdown",
   "metadata": {},
   "source": [
    "## Definir los parametros para los experimentos"
   ]
  },
  {
   "cell_type": "code",
   "execution_count": null,
   "metadata": {},
   "outputs": [],
   "source": [
    "##          r      beta    alfa   alfa1   eta      eta1    K      rho     m       miu\n",
    "p1 = Params(0.82,  0.87,   1.56,  1.12,   2.41,    1.83,   12.0,  1.38,   0.13,   0.11)\n",
    "p2 = Params(1.32,  0.87,   1.56,  0.72,   2.41,    0.41,   2.8,   1.38,   0.23,   0.11)\n",
    "p3 = Params(1.32,  0.87,   0.76,  0.72,   0.6,     0.41,   2.8,   0.78,   0.23,   0.11)\n",
    "p4 = Params(0.82,  0.87,   0.76,  0.72,   1.2,     0.41,   2.8,   1.38,   0.23,   0.11)\n",
    "p5 = Params(1.32,  0.87,   1.16,  0.72,   0.3095,  0.41,   2.8,   0.78,   0.23,   0.11)\n",
    "p6 = Params(1.32,  0.87,   1.16,  1.16,   0.3,     0.41,   2.8,   0.78,   0.23,   0.11)"
   ]
  },
  {
   "attachments": {},
   "cell_type": "markdown",
   "metadata": {},
   "source": [
    "### Primer experimento"
   ]
  },
  {
   "cell_type": "code",
   "execution_count": null,
   "metadata": {},
   "outputs": [],
   "source": [
    "first_experiment(p1)"
   ]
  },
  {
   "attachments": {},
   "cell_type": "markdown",
   "metadata": {},
   "source": [
    "### Segundo experimento"
   ]
  },
  {
   "cell_type": "code",
   "execution_count": null,
   "metadata": {},
   "outputs": [],
   "source": [
    "second_experiment(p2)"
   ]
  },
  {
   "attachments": {},
   "cell_type": "markdown",
   "metadata": {},
   "source": [
    "### Tercer experimento"
   ]
  },
  {
   "cell_type": "code",
   "execution_count": null,
   "metadata": {},
   "outputs": [],
   "source": [
    "third_experiment(p3)"
   ]
  },
  {
   "attachments": {},
   "cell_type": "markdown",
   "metadata": {},
   "source": [
    "### Cuarto experimento"
   ]
  },
  {
   "cell_type": "code",
   "execution_count": null,
   "metadata": {},
   "outputs": [],
   "source": [
    "fourth_experiment(p4)"
   ]
  },
  {
   "attachments": {},
   "cell_type": "markdown",
   "metadata": {},
   "source": [
    "### Quinto experimento"
   ]
  },
  {
   "cell_type": "code",
   "execution_count": null,
   "metadata": {},
   "outputs": [],
   "source": [
    "fifth_experiment(p5)"
   ]
  },
  {
   "attachments": {},
   "cell_type": "markdown",
   "metadata": {},
   "source": [
    "### Sexto experimento"
   ]
  },
  {
   "cell_type": "code",
   "execution_count": null,
   "metadata": {},
   "outputs": [],
   "source": [
    "sixth_experiment(p6)"
   ]
  }
 ],
 "metadata": {
  "kernelspec": {
   "display_name": "Python 3",
   "language": "python",
   "name": "python3"
  },
  "language_info": {
   "codemirror_mode": {
    "name": "ipython",
    "version": 3
   },
   "file_extension": ".py",
   "mimetype": "text/x-python",
   "name": "python",
   "nbconvert_exporter": "python",
   "pygments_lexer": "ipython3",
   "version": "3.10.7"
  },
  "orig_nbformat": 4
 },
 "nbformat": 4,
 "nbformat_minor": 2
}
