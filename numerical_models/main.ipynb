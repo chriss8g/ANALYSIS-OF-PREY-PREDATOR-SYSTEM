{
  "cells": [
    {
      "attachments": {},
      "cell_type": "markdown",
      "metadata": {
        "id": "N7f0fvdUKg9M"
      },
      "source": [
        "### ANÁLISIS DE *STABILITY AND NUMERICAL SIMULATION OF PREY-PREDATOR SYSTEM WITH HOLLING TYPE-II FUNCTIONAL RESPONSES FOR ADULT PREY*\n",
        "\n",
        "#### Integrantes del equipo\n",
        "1. Pedro Pablo Álvarez Portelles\n",
        "2. Abel Llerena Domingo\n",
        "3. Marlon Díaz Pérez\n",
        "4. Christopher Guerra Herrero\n",
        "5. Amanda Cordero Lezcano"
      ]
    },
    {
      "attachments": {},
      "cell_type": "markdown",
      "metadata": {
        "id": "hoG5rzCoKg9R"
      },
      "source": [
        "## Instalacion de librerias"
      ]
    },
    {
      "cell_type": "code",
      "execution_count": null,
      "metadata": {
        "colab": {
          "base_uri": "https://localhost:8080/"
        },
        "id": "2lngLIlOKg9S",
        "outputId": "c135a721-3f03-43d2-bf8e-68bb157d3b3e"
      },
      "outputs": [],
      "source": [
        "!rm -rf \"ANALYSIS-OF-PREY-PREDATOR-SYSTEM\"\n",
        "!git clone \"https://github.com/chriss8g/ANALYSIS-OF-PREY-PREDATOR-SYSTEM\"\n",
        "%cd ANALYSIS-OF-PREY-PREDATOR-SYSTEM/numerical_models/"
      ]
    },
    {
      "attachments": {},
      "cell_type": "markdown",
      "metadata": {
        "id": "CSF0xAT7Kg9T"
      },
      "source": [
        "## Importar las librerias necesarias"
      ]
    },
    {
      "cell_type": "code",
      "execution_count": null,
      "metadata": {
        "colab": {
          "base_uri": "https://localhost:8080/"
        },
        "id": "43VaHvvwKg9U",
        "outputId": "0731d5d6-6329-441c-89dd-4d595a6d75b2"
      },
      "outputs": [],
      "source": [
        "!pwd\n",
        "import numpy as np\n",
        "import scipy.integrate as it\n",
        "import matplotlib.pyplot as plt\n",
        "from methods.experiments import *\n",
        "\n",
        "%matplotlib inline"
      ]
    },
    {
      "attachments": {},
      "cell_type": "markdown",
      "metadata": {
        "id": "KyHFfaxtKg9V"
      },
      "source": [
        "## Definir los parametros para los experimentos"
      ]
    },
    {
      "cell_type": "code",
      "execution_count": null,
      "metadata": {
        "id": "cR4Rtc8AKg9V"
      },
      "outputs": [],
      "source": [
        "##          r      beta    alfa   alfa1   eta      eta1    K      rho     m       miu\n",
        "p1 = Params(0.82,  0.87,   1.56,  1.12,   2.41,    1.83,   12.0,  1.38,   0.13,   0.11)\n",
        "p2 = Params(1.32,  0.87,   1.56,  0.72,   2.41,    0.41,   2.8,   1.38,   0.23,   0.11)\n",
        "p3 = Params(1.32,  0.87,   0.76,  0.72,   0.6,     0.41,   2.8,   0.78,   0.23,   0.11)\n",
        "p4 = Params(0.82,  0.87,   0.76,  0.72,   1.2,     0.41,   2.8,   1.38,   0.23,   0.11)\n",
        "p5 = Params(1.32,  0.87,   1.16,  0.72,   0.3095,  0.41,   2.8,   0.78,   0.23,   0.11)\n",
        "p6 = Params(1.32,  0.87,   1.16,  1.16,   0.3,     0.41,   2.8,   0.78,   0.23,   0.11)"
      ]
    },
    {
      "attachments": {},
      "cell_type": "markdown",
      "metadata": {
        "id": "e0LiusY-Kg9V"
      },
      "source": [
        "### Primer experimento"
      ]
    },
    {
      "cell_type": "code",
      "execution_count": null,
      "metadata": {
        "colab": {
          "base_uri": "https://localhost:8080/",
          "height": 452
        },
        "id": "0nMMHVoHKg9W",
        "outputId": "67c00655-b298-4d54-9f82-3a402d7a9fe7"
      },
      "outputs": [],
      "source": [
        "first_experiment(p1)"
      ]
    },
    {
      "attachments": {},
      "cell_type": "markdown",
      "metadata": {
        "id": "dORs8G4yKg9X"
      },
      "source": [
        "### Segundo experimento"
      ]
    },
    {
      "cell_type": "code",
      "execution_count": null,
      "metadata": {
        "id": "UMyh0qhAKg9Y"
      },
      "outputs": [],
      "source": [
        "second_experiment(p2)"
      ]
    },
    {
      "attachments": {},
      "cell_type": "markdown",
      "metadata": {
        "id": "fiLQHidhKg9Y"
      },
      "source": [
        "### Tercer experimento"
      ]
    },
    {
      "cell_type": "code",
      "execution_count": null,
      "metadata": {
        "id": "p0zp-yAoKg9Z"
      },
      "outputs": [],
      "source": [
        "third_experiment(p3)"
      ]
    },
    {
      "attachments": {},
      "cell_type": "markdown",
      "metadata": {
        "id": "HjQg80wHKg9Z"
      },
      "source": [
        "### Cuarto experimento"
      ]
    },
    {
      "cell_type": "code",
      "execution_count": null,
      "metadata": {
        "id": "f5XPvezJKg9Z"
      },
      "outputs": [],
      "source": [
        "fourth_experiment(p4)"
      ]
    },
    {
      "attachments": {},
      "cell_type": "markdown",
      "metadata": {
        "id": "PFpZho10Kg9a"
      },
      "source": [
        "### Quinto experimento"
      ]
    },
    {
      "cell_type": "code",
      "execution_count": null,
      "metadata": {
        "id": "R4xp1wy1Kg9a"
      },
      "outputs": [],
      "source": [
        "fifth_experiment(p5)"
      ]
    },
    {
      "attachments": {},
      "cell_type": "markdown",
      "metadata": {
        "id": "LgeK1JgEKg9a"
      },
      "source": [
        "### Sexto experimento"
      ]
    },
    {
      "cell_type": "code",
      "execution_count": null,
      "metadata": {
        "id": "_PFArm56Kg9b"
      },
      "outputs": [],
      "source": [
        "sixth_experiment(p6)"
      ]
    }
  ],
  "metadata": {
    "colab": {
      "provenance": []
    },
    "kernelspec": {
      "display_name": "Python 3",
      "language": "python",
      "name": "python3"
    },
    "language_info": {
      "codemirror_mode": {
        "name": "ipython",
        "version": 3
      },
      "file_extension": ".py",
      "mimetype": "text/x-python",
      "name": "python",
      "nbconvert_exporter": "python",
      "pygments_lexer": "ipython3",
      "version": "3.10.7"
    },
    "orig_nbformat": 4
  },
  "nbformat": 4,
  "nbformat_minor": 0
}
